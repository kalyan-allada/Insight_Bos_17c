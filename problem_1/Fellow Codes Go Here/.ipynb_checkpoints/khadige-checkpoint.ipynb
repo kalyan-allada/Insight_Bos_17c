{
 "cells": [
  {
   "cell_type": "code",
   "execution_count": null,
   "metadata": {
    "collapsed": true
   },
   "outputs": [],
   "source": [
    "\n",
    "\"\"\"\n",
    "Odd Even Linked List\n",
    "\n",
    "Given a singly linked list, group all odd nodes together followed by the even nodes. Please note here we are talking about the node number and not the value in the nodes.\n",
    "\n",
    "You should try to do it in place. The program should run in O(1) space complexity and O(nodes) time complexity.\n",
    "\n",
    "Example:\n",
    "Given 1->2->3->4->5->NULL,\n",
    "return 1->3->5->2->4->NULL.\n",
    "\n",
    "Note:\n",
    "The relative order inside both the even and odd groups should remain as it was in the input. \n",
    "The first node is considered odd, the second node even and so on ...\n",
    "\"\"\"\n",
    "\n",
    "#constructor for a Node of singly linked list\n",
    "class ListNode:\n",
    "    def __init__(self, data):\n",
    "        self.data = data\n",
    "        self.next = None\n",
    "\n",
    "def oddEvenList_Helper(head):\n",
    "    #YOUR CODE GOES HERE\n",
    "    temp_node_odd=head\n",
    "    temp_node_even=head.next\n",
    "    while temp_node_odd.next is not None\n",
    "        temp_node_odd.next=temp_node_even.next\n",
    "        print(temp_node_odd.data)        \n",
    "        print(temp_node_odd.next.data)\n",
    "        temp_node_odd=temp_node_odd.next\n",
    "        temp_node_even.next=temp_node_odd.next\n",
    "        temp_node_even=temp_node_even.next        \n",
    "        print(temp_node_even.data)        \n",
    "        print(temp_node_even.next.data)        \n",
    "    return None\n",
    "\n",
    "\n",
    "#DO NOT CHANGE THIS FUNCTION\n",
    "def oddEvenList(head):\n",
    "    return oddEvenList_Helper(head)\n",
    "\n",
    "\n",
    "#test case\n",
    "def main():\n",
    "    head = ListNode(1)\n",
    "    head.next = ListNode(2)\n",
    "    head.next.next = ListNode(3)\n",
    "    head.next.next.next = ListNode(4)\n",
    "    head.next.next.next.next = ListNode(5)\n",
    "    head =  oddEvenList(head)\n",
    "    print (\"Expected result: 1, 3, 5, 2, 4\")\n",
    "    print (\"Your result is {}, {}, {}, {}, {}\".format(head.data, head.next.data, head.next.next.data, head.next.next.next.data, head.next.next.next.next.data))\n",
    "\n",
    "if __name__ == \"__main__\":\n",
    "    main()"
   ]
  }
 ],
 "metadata": {
  "kernelspec": {
   "display_name": "Python 2",
   "language": "python",
   "name": "python2"
  },
  "language_info": {
   "codemirror_mode": {
    "name": "ipython",
    "version": 2
   },
   "file_extension": ".py",
   "mimetype": "text/x-python",
   "name": "python",
   "nbconvert_exporter": "python",
   "pygments_lexer": "ipython2",
   "version": "2.7.13"
  }
 },
 "nbformat": 4,
 "nbformat_minor": 2
}
